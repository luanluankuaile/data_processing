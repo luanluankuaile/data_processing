{
 "cells": [
  {
   "cell_type": "markdown",
   "id": "13e97178-0137-4781-92a6-ff71a81b5f1a",
   "metadata": {},
   "source": [
    "# Python 语法糖 #"
   ]
  },
  {
   "cell_type": "markdown",
   "id": "f9145bcc-52a3-4ed8-bdc2-863d98f8be16",
   "metadata": {},
   "source": [
    "# list推导式（适用于pyspark df.column, Pandas df.series）"
   ]
  },
  {
   "cell_type": "code",
   "execution_count": 1,
   "id": "b4f6b2b4-1a3d-4e98-8dfa-8d1a17c31430",
   "metadata": {
    "tags": []
   },
   "outputs": [
    {
     "name": "stdout",
     "output_type": "stream",
     "text": [
      "[0, 1, 4, 9, 16, 25, 36, 49, 64, 81]\n"
     ]
    }
   ],
   "source": [
    "squares = [x**2 for x in range(10)]\n",
    "print(squares)"
   ]
  },
  {
   "cell_type": "code",
   "execution_count": 2,
   "id": "40b34ffe-e7c0-405f-ab70-05f2d4f5329a",
   "metadata": {
    "tags": []
   },
   "outputs": [
    {
     "name": "stdout",
     "output_type": "stream",
     "text": [
      "{0: 0, 1: 1, 2: 4, 3: 9, 4: 16}\n"
     ]
    }
   ],
   "source": [
    "square_dict = {x: x**2 for x in range(5)}\n",
    "print(square_dict)"
   ]
  },
  {
   "cell_type": "code",
   "execution_count": 3,
   "id": "dc922e33-77da-424e-8311-9058e3ec379e",
   "metadata": {
    "tags": []
   },
   "outputs": [
    {
     "name": "stdout",
     "output_type": "stream",
     "text": [
      "{1, 4, 9}\n"
     ]
    }
   ],
   "source": [
    "square_set = {x**2 for x in [1, 2, 3, 2]}\n",
    "print(square_set)"
   ]
  },
  {
   "cell_type": "markdown",
   "id": "42701dc0-0360-480e-863d-229192346cda",
   "metadata": {},
   "source": [
    "# 生成器表达式:类似于列表推导，但提供了一个生成器而不是列表"
   ]
  },
  {
   "cell_type": "code",
   "execution_count": 4,
   "id": "75419079-9fc9-4085-b96f-ecc50cfd057a",
   "metadata": {
    "tags": []
   },
   "outputs": [
    {
     "name": "stdout",
     "output_type": "stream",
     "text": [
      "285\n"
     ]
    }
   ],
   "source": [
    "sum_of_squares = sum(x**2 for x in range(10))\n",
    "print(sum_of_squares)"
   ]
  },
  {
   "cell_type": "code",
   "execution_count": 5,
   "id": "400d8887-ecce-4d9a-8152-09f8ebde34e9",
   "metadata": {
    "tags": []
   },
   "outputs": [
    {
     "name": "stdout",
     "output_type": "stream",
     "text": [
      "2484951139392\n",
      "2484951134464\n"
     ]
    }
   ],
   "source": [
    "a=[1,2,3]\n",
    "b=[1,2,3]\n",
    "print(id(a))\n",
    "print(id(b))"
   ]
  },
  {
   "cell_type": "code",
   "execution_count": 11,
   "id": "b639ad39-346e-48ea-a822-ec8638e803db",
   "metadata": {
    "tags": []
   },
   "outputs": [
    {
     "data": {
      "text/plain": [
       "True"
      ]
     },
     "execution_count": 11,
     "metadata": {},
     "output_type": "execute_result"
    }
   ],
   "source": [
    "a==b"
   ]
  },
  {
   "cell_type": "code",
   "execution_count": 12,
   "id": "a34e63bf-192c-477c-9494-0d264542bffa",
   "metadata": {
    "tags": []
   },
   "outputs": [
    {
     "data": {
      "text/plain": [
       "False"
      ]
     },
     "execution_count": 12,
     "metadata": {},
     "output_type": "execute_result"
    }
   ],
   "source": [
    "a is b"
   ]
  },
  {
   "cell_type": "code",
   "execution_count": 6,
   "id": "e9ec891b-9ab3-4f24-8468-c480bf1d8af8",
   "metadata": {
    "tags": []
   },
   "outputs": [
    {
     "name": "stdout",
     "output_type": "stream",
     "text": [
      "1841920695872\n",
      "1841920695872\n"
     ]
    }
   ],
   "source": [
    "a=b\n",
    "print(id(a))\n",
    "print(id(b))"
   ]
  },
  {
   "cell_type": "code",
   "execution_count": 8,
   "id": "d5f3e72d-3a2e-49ec-aeb6-6525b0063855",
   "metadata": {
    "tags": []
   },
   "outputs": [
    {
     "name": "stdout",
     "output_type": "stream",
     "text": [
      "1841920695872\n",
      "1841933925632\n"
     ]
    }
   ],
   "source": [
    "b=[1,2,3,4]\n",
    "print(id(a))\n",
    "print(id(b))"
   ]
  },
  {
   "cell_type": "markdown",
   "id": "9e1408f8-b365-4c7a-b4fa-c1f06171a84a",
   "metadata": {
    "tags": []
   },
   "source": [
    "# yield和return的区别，每个函数只return一次，但是可以yield很多次，yield返回的是一个生成的对象，可以迭代多次"
   ]
  },
  {
   "cell_type": "code",
   "execution_count": 6,
   "id": "6733ed0e-d11b-44b4-8b6f-148056fd2778",
   "metadata": {
    "tags": []
   },
   "outputs": [
    {
     "name": "stdout",
     "output_type": "stream",
     "text": [
      "Step 1\n",
      "Step 2\n",
      "Step 3\n"
     ]
    }
   ],
   "source": [
    "def hello():\n",
    "    print('Step 1')\n",
    "    yield 1\n",
    "    print('Step 2')\n",
    "    yield 2\n",
    "    print('Step 3')\n",
    "    yield 3\n",
    "# 调用不能直接调用Hello(), 直接调用该函数就只打印一个Step 1 就结束了\n",
    "\n",
    "g=hello()\n",
    "for i in g:\n",
    "    i\n"
   ]
  },
  {
   "cell_type": "code",
   "execution_count": 7,
   "id": "4f820787-1a5f-4539-9d0f-93d0ba2155a8",
   "metadata": {
    "tags": []
   },
   "outputs": [
    {
     "name": "stdout",
     "output_type": "stream",
     "text": [
      "0\n",
      "1\n",
      "4\n",
      "9\n",
      "16\n"
     ]
    }
   ],
   "source": [
    "def squares(count:int):\n",
    "    for i in range(count):\n",
    "        yield i**2\n",
    "\n",
    "g=squares(5)\n",
    "for i in g:\n",
    "    print(i)"
   ]
  },
  {
   "cell_type": "code",
   "execution_count": 8,
   "id": "f8bca1ae-e5de-4d6d-89ab-b4c81f7e1ba9",
   "metadata": {
    "tags": []
   },
   "outputs": [
    {
     "data": {
      "text/plain": [
       "<generator object spark at 0x0000024292833E80>"
      ]
     },
     "execution_count": 8,
     "metadata": {},
     "output_type": "execute_result"
    }
   ],
   "source": [
    "def spark():\n",
    "    spark='a'\n",
    "    # return spark 返回'a'， yield spark 返回spark object,本质上都是spark对象\n",
    "    yield spark\n",
    "\n",
    "g=spark()\n",
    "g"
   ]
  },
  {
   "cell_type": "code",
   "execution_count": 9,
   "id": "66652913-b245-4859-a5e6-e5fbb414339b",
   "metadata": {
    "tags": []
   },
   "outputs": [
    {
     "name": "stdout",
     "output_type": "stream",
     "text": [
      "[2, 4, 6, 8]\n"
     ]
    }
   ],
   "source": [
    "numbers = [1, 2, 3, 4]\n",
    "result = map(lambda x: x * 2, numbers)\n",
    "#原来map()函数会返回列表，在Python3中map()函数返回一个map对象可以使用list(map)来查看每个元素\n",
    "print(list(result))"
   ]
  },
  {
   "cell_type": "code",
   "execution_count": 10,
   "id": "83a84d05-98a5-410a-b703-42a22dec6b27",
   "metadata": {
    "tags": []
   },
   "outputs": [
    {
     "name": "stdout",
     "output_type": "stream",
     "text": [
      "[2, 4, 6]\n"
     ]
    }
   ],
   "source": [
    "numbers = [1, 2, 3, 4, 5, 6]\n",
    "result = filter(lambda x: x % 2 == 0, numbers)\n",
    "print(list(result))"
   ]
  },
  {
   "cell_type": "code",
   "execution_count": 11,
   "id": "1dc586e9-358d-494f-849b-908828212a8e",
   "metadata": {
    "tags": []
   },
   "outputs": [
    {
     "name": "stdout",
     "output_type": "stream",
     "text": [
      "24\n"
     ]
    }
   ],
   "source": [
    "from functools import reduce\n",
    "numbers = [1, 2, 3, 4]\n",
    "result = reduce(lambda x, y: x * y, numbers)\n",
    "print(result)"
   ]
  },
  {
   "cell_type": "code",
   "execution_count": 5,
   "id": "fef625b7-1c36-4a67-af58-9ac6fd336ed6",
   "metadata": {
    "tags": []
   },
   "outputs": [
    {
     "name": "stdout",
     "output_type": "stream",
     "text": [
      "23\n"
     ]
    }
   ],
   "source": [
    "from dataclasses import dataclass\n",
    "\n",
    "@dataclass\n",
    "class Student:\n",
    "    name:str\n",
    "    age:int\n",
    "    \n",
    "#对象创建后不能改变对象的属性\n",
    "Tom=Student('Tom',23)\n",
    "print(Tom.age)"
   ]
  },
  {
   "cell_type": "markdown",
   "id": "0c906501-3a16-4780-b18a-af83f22c3d68",
   "metadata": {},
   "source": [
    "# 涉及精度取小数位数的一律使用decimal，不要使用float,float类型会导致四舍五入是产生精度错误"
   ]
  },
  {
   "cell_type": "code",
   "execution_count": 13,
   "id": "f137137d-0ff6-4f76-bbd8-2ed687616695",
   "metadata": {
    "tags": []
   },
   "outputs": [],
   "source": [
    "import logging\n",
    "        \n",
    "logging.basicConfig(filename='log/log.txt')\n",
    "log=logging.getLogger('mylogger')\n",
    "log.setLevel(logging.DEBUG)\n",
    "log.info(\"This is info logger\")\n",
    "\n",
    "class Student:\n",
    "    def __init__(self,name,age):\n",
    "        self.name=name\n",
    "        self.age=age\n",
    "\n",
    "       \n",
    "\n",
    "tom=Student('Tom',18)\n",
    "log.info(tom.name)\n",
    "log.info(tom.age)"
   ]
  },
  {
   "cell_type": "code",
   "execution_count": 14,
   "id": "39d880ac-3d15-422d-9407-68cc2a2816c9",
   "metadata": {},
   "outputs": [
    {
     "name": "stdout",
     "output_type": "stream",
     "text": [
      "Channel1,HFS,avg_sales_value_week <= 2112.08,Fabric_Care_perf_cond_salience <= 0.10,Total_Variant <= 77.50,Bottom_SKU_case_per_month <= 1.02\n",
      "Channel1,HFS,avg_sales_value_week > 2112.08,Bottom_SKU_case_per_month <= 0.80,Home_Care_Variant <= 1.50,Hair_Care_perf_cond_salience <= 0.00\n",
      "Channel1,HFS,avg_sales_value_week <= 2112.08,Fabric_Care_perf_cond_salience <= 0.10,Total_Variant > 77.50,Home_Care_salience <= 0.01\n",
      "Channel1,MM,avg_sales_value_week <= 2112.08,Fabric_Care_perf_cond_salience <= 0.10,Total_Variant > 77.50,Home_Care_salience > 0.01\n",
      "Channel1,MM,avg_sales_value_week > 2112.08,Bottom_SKU_case_per_month <= 0.80,Home_Care_Variant > 1.50,avg_num_sub_brand_month > 1.38\n",
      "Channel1,MM,avg_sales_value_week <= 2112.08,Fabric_Care_perf_cond_salience <= 0.10,Total_Variant <= 77.50,Bottom_SKU_case_per_month > 1.02\n",
      "Channel1,MM,avg_sales_value_week > 2112.08,Bottom_SKU_case_per_month > 0.80,avg_num_sub_brand_month <= 5.83,Feminine_Care_Variant > 6.50\n",
      "Channel1,MM,avg_sales_value_week > 2112.08,Bottom_SKU_case_per_month > 0.80,avg_num_sub_brand_month > 5.83\n",
      "Channel1,WS,avg_sales_value_week > 2112.08,Bottom_SKU_case_per_month > 0.80,avg_num_sub_brand_month <= 5.83,Feminine_Care_Variant <= 6.50\n",
      "Channel1,WS,avg_sales_value_week <= 2112.08,Fabric_Care_perf_cond_salience > 0.10\n",
      "Channel1,WS,avg_sales_value_week > 2112.08,Bottom_SKU_case_per_month <= 0.80,Home_Care_Variant <= 1.50,Hair_Care_perf_cond_salience > 0.00\n"
     ]
    }
   ],
   "source": [
    "import re\n",
    "\n",
    "# query = \"\"\"select site_key, INITIAL_channel, INITIAL_channel as ATLANTIS_auto_channel from default.ma_eda_features \"\"\"\n",
    "query = \"\"\"HFS,select site_key, INITIAL_channel, case when avg_sales_value_week <= 2112.08 and Fabric_Care_perf_cond_salience <= 0.10 and Total_Variant <= 77.50 and Bottom_SKU_case_per_month <= 1.02 then \"HFS\" when avg_sales_value_week > 2112.08 and Bottom_SKU_case_per_month <= 0.80 and Home_Care_Variant <= 1.50 and Hair_Care_perf_cond_salience <= 0.00 then \"HFS\" when avg_sales_value_week <= 2112.08 and Fabric_Care_perf_cond_salience <= 0.10 and Total_Variant > 77.50 and Home_Care_salience <= 0.01 then \"HFS\" when avg_sales_value_week <= 2112.08 and Fabric_Care_perf_cond_salience <= 0.10 and Total_Variant > 77.50 and Home_Care_salience > 0.01 then \"MM\" when avg_sales_value_week > 2112.08 and Bottom_SKU_case_per_month <= 0.80 and Home_Care_Variant > 1.50 and avg_num_sub_brand_month > 1.38 then \"MM\" when avg_sales_value_week <= 2112.08 and Fabric_Care_perf_cond_salience <= 0.10 and Total_Variant <= 77.50 and Bottom_SKU_case_per_month > 1.02 then \"MM\" when avg_sales_value_week > 2112.08 and Bottom_SKU_case_per_month > 0.80 and avg_num_sub_brand_month <= 5.83 and Feminine_Care_Variant > 6.50 then \"MM\" when avg_sales_value_week > 2112.08 and Bottom_SKU_case_per_month > 0.80 and avg_num_sub_brand_month > 5.83 then \"MM\" when avg_sales_value_week > 2112.08 and Bottom_SKU_case_per_month > 0.80 and avg_num_sub_brand_month <= 5.83 and Feminine_Care_Variant <= 6.50 then \"WS\" when avg_sales_value_week <= 2112.08 and Fabric_Care_perf_cond_salience > 0.10 then \"WS\" when avg_sales_value_week > 2112.08 and Bottom_SKU_case_per_month <= 0.80 and Home_Care_Variant <= 1.50 and Hair_Care_perf_cond_salience > 0.00 then \"WS\" else INITIAL_channel end as ATLANTIS_auto_channel from default.ma_eda_features \"\"\"\n",
    "case_statements = re.findall(r'when(.*?)then \"(.*?)\"', query, re.DOTALL)\n",
    "\n",
    "results = []\n",
    "for conditions, result in case_statements:\n",
    "    conditions = conditions.strip()\n",
    "    conditions = re.split(r'\\s+and\\s+', conditions)  # Split conditions on 'and'\n",
    "    formatted = ['Channel1']  # Assume a default channel\n",
    "    formatted.append(result)\n",
    "    formatted.extend(conditions)\n",
    "    results.append(','.join(formatted))\n",
    "\n",
    "for line in results:\n",
    "    print(line)"
   ]
  },
  {
   "cell_type": "code",
   "execution_count": 15,
   "id": "3b323fb0-b036-4e78-82d7-929fb64ae0b8",
   "metadata": {},
   "outputs": [
    {
     "name": "stdout",
     "output_type": "stream",
     "text": [
      "Empty\n"
     ]
    }
   ],
   "source": [
    "decision_paths = {'WHOLESALER: HYPER/ SUPER/ HFS': ['']}\n",
    "if all(not s for value_list in decision_paths.values() for s in value_list):\n",
    "    print(\"Empty\")"
   ]
  },
  {
   "cell_type": "code",
   "execution_count": 16,
   "id": "dc16c690-2ca0-4dc6-b522-6dc024e98234",
   "metadata": {},
   "outputs": [
    {
     "name": "stdout",
     "output_type": "stream",
     "text": [
      "HFS,HFS,avg_sales_value_week <= 2112.08,Fabric_Care_perf_cond_salience <= 0.10,Total_Variant <= 77.50,Bottom_SKU_case_per_month <= 1.02\n",
      "HFS,HFS,avg_sales_value_week > 2112.08,Bottom_SKU_case_per_month <= 0.80,Home_Care_Variant <= 1.50,Hair_Care_perf_cond_salience <= 0.00\n",
      "HFS,HFS,avg_sales_value_week <= 2112.08,Fabric_Care_perf_cond_salience <= 0.10,Total_Variant > 77.50,Home_Care_salience <= 0.01\n",
      "HFS,MM,avg_sales_value_week <= 2112.08,Fabric_Care_perf_cond_salience <= 0.10,Total_Variant > 77.50,Home_Care_salience > 0.01\n",
      "HFS,MM,avg_sales_value_week > 2112.08,Bottom_SKU_case_per_month <= 0.80,Home_Care_Variant > 1.50,avg_num_sub_brand_month > 1.38\n",
      "HFS,MM,avg_sales_value_week <= 2112.08,Fabric_Care_perf_cond_salience <= 0.10,Total_Variant <= 77.50,Bottom_SKU_case_per_month > 1.02\n",
      "HFS,MM,avg_sales_value_week > 2112.08,Bottom_SKU_case_per_month > 0.80,avg_num_sub_brand_month <= 5.83,Feminine_Care_Variant > 6.50\n",
      "HFS,MM,avg_sales_value_week > 2112.08,Bottom_SKU_case_per_month > 0.80,avg_num_sub_brand_month > 5.83\n",
      "HFS,WS,avg_sales_value_week > 2112.08,Bottom_SKU_case_per_month > 0.80,avg_num_sub_brand_month <= 5.83,Feminine_Care_Variant <= 6.50\n",
      "HFS,WS,avg_sales_value_week <= 2112.08,Fabric_Care_perf_cond_salience > 0.10\n",
      "HFS,WS,avg_sales_value_week > 2112.08,Bottom_SKU_case_per_month <= 0.80,Home_Care_Variant <= 1.50,Hair_Care_perf_cond_salience > 0.00\n"
     ]
    }
   ],
   "source": [
    "import re\n",
    "\n",
    "# 原始的 SQL 查询\n",
    "query = \"\"\"HFS,select site_key, INITIAL_channel, case when avg_sales_value_week <= 2112.08 and Fabric_Care_perf_cond_salience <= 0.10 and Total_Variant <= 77.50 and Bottom_SKU_case_per_month <= 1.02 then \"HFS\" when avg_sales_value_week > 2112.08 and Bottom_SKU_case_per_month <= 0.80 and Home_Care_Variant <= 1.50 and Hair_Care_perf_cond_salience <= 0.00 then \"HFS\" when avg_sales_value_week <= 2112.08 and Fabric_Care_perf_cond_salience <= 0.10 and Total_Variant > 77.50 and Home_Care_salience <= 0.01 then \"HFS\" when avg_sales_value_week <= 2112.08 and Fabric_Care_perf_cond_salience <= 0.10 and Total_Variant > 77.50 and Home_Care_salience > 0.01 then \"MM\" when avg_sales_value_week > 2112.08 and Bottom_SKU_case_per_month <= 0.80 and Home_Care_Variant > 1.50 and avg_num_sub_brand_month > 1.38 then \"MM\" when avg_sales_value_week <= 2112.08 and Fabric_Care_perf_cond_salience <= 0.10 and Total_Variant <= 77.50 and Bottom_SKU_case_per_month > 1.02 then \"MM\" when avg_sales_value_week > 2112.08 and Bottom_SKU_case_per_month > 0.80 and avg_num_sub_brand_month <= 5.83 and Feminine_Care_Variant > 6.50 then \"MM\" when avg_sales_value_week > 2112.08 and Bottom_SKU_case_per_month > 0.80 and avg_num_sub_brand_month > 5.83 then \"MM\" when avg_sales_value_week > 2112.08 and Bottom_SKU_case_per_month > 0.80 and avg_num_sub_brand_month <= 5.83 and Feminine_Care_Variant <= 6.50 then \"WS\" when avg_sales_value_week <= 2112.08 and Fabric_Care_perf_cond_salience > 0.10 then \"WS\" when avg_sales_value_week > 2112.08 and Bottom_SKU_case_per_month <= 0.80 and Home_Care_Variant <= 1.50 and Hair_Care_perf_cond_salience > 0.00 then \"WS\" else INITIAL_channel end as ATLANTIS_auto_channel from default.ma_eda_features\"\"\"\n",
    "\n",
    "# 提取 case 语句中的条件和结果\n",
    "case_parts = re.findall(r'when (.*?) then \"(.*?)\"', query)\n",
    "\n",
    "# 获取原始的第一部分，也即第一个逗号前的内容\n",
    "first_part = query.split(',')[0]\n",
    "\n",
    "# 格式化输出\n",
    "results = []\n",
    "for condition, result in case_parts:\n",
    "    conditions = condition.split(' and ')\n",
    "    formatted_line = [first_part, result] + conditions\n",
    "    results.append(','.join(formatted_line))\n",
    "\n",
    "for line in results:\n",
    "    print(line)"
   ]
  },
  {
   "cell_type": "code",
   "execution_count": 17,
   "id": "2e6ea785-9f8f-441b-b701-d07eff0e4dae",
   "metadata": {},
   "outputs": [
    {
     "name": "stdout",
     "output_type": "stream",
     "text": [
      "HFS,HFS,avg_sales_value_week <= 2112.08,Fabric_Care_perf_cond_salience <= 0.10,Total_Variant <= 77.50,Bottom_SKU_case_per_month <= 1.02\n",
      "HFS,HFS,avg_sales_value_week > 2112.08,Bottom_SKU_case_per_month <= 0.80,Home_Care_Variant <= 1.50,Hair_Care_perf_cond_salience <= 0.00\n",
      "HFS,HFS,avg_sales_value_week <= 2112.08,Fabric_Care_perf_cond_salience <= 0.10,Total_Variant > 77.50,Home_Care_salience <= 0.01\n",
      "HFS,MM,avg_sales_value_week <= 2112.08,Fabric_Care_perf_cond_salience <= 0.10,Total_Variant > 77.50,Home_Care_salience > 0.01\n",
      "HFS,MM,avg_sales_value_week > 2112.08,Bottom_SKU_case_per_month <= 0.80,Home_Care_Variant > 1.50,avg_num_sub_brand_month > 1.38\n",
      "HFS,MM,avg_sales_value_week <= 2112.08,Fabric_Care_perf_cond_salience <= 0.10,Total_Variant <= 77.50,Bottom_SKU_case_per_month > 1.02\n",
      "HFS,MM,avg_sales_value_week > 2112.08,Bottom_SKU_case_per_month > 0.80,avg_num_sub_brand_month <= 5.83,Feminine_Care_Variant > 6.50\n",
      "HFS,MM,avg_sales_value_week > 2112.08,Bottom_SKU_case_per_month > 0.80,avg_num_sub_brand_month > 5.83\n",
      "HFS,WS,avg_sales_value_week > 2112.08,Bottom_SKU_case_per_month > 0.80,avg_num_sub_brand_month <= 5.83,Feminine_Care_Variant <= 6.50\n",
      "HFS,WS,avg_sales_value_week <= 2112.08,Fabric_Care_perf_cond_salience > 0.10\n",
      "HFS,WS,avg_sales_value_week > 2112.08,Bottom_SKU_case_per_month <= 0.80,Home_Care_Variant <= 1.50,Hair_Care_perf_cond_salience > 0.00\n",
      "WS,HFS,avg_sales_value_week <= 2112.08,Fabric_Care_perf_cond_salience <= 0.10,Total_Variant <= 77.50,Bottom_SKU_case_per_month <= 1.02\n",
      "WS,HFS,avg_sales_value_week > 2112.08,Bottom_SKU_case_per_month <= 0.80,Home_Care_Variant <= 1.50,Hair_Care_perf_cond_salience <= 0.00\n",
      "WS,HFS,avg_sales_value_week <= 2112.08,Fabric_Care_perf_cond_salience <= 0.10,Total_Variant > 77.50,Home_Care_salience <= 0.01\n",
      "WS,MM,avg_sales_value_week <= 2112.08,Fabric_Care_perf_cond_salience <= 0.10,Total_Variant > 77.50,Home_Care_salience > 0.01\n",
      "WS,MM,avg_sales_value_week > 2112.08,Bottom_SKU_case_per_month <= 0.80,Home_Care_Variant > 1.50,avg_num_sub_brand_month > 1.38\n",
      "WS,MM,avg_sales_value_week <= 2112.08,Fabric_Care_perf_cond_salience <= 0.10,Total_Variant <= 77.50,Bottom_SKU_case_per_month > 1.02\n",
      "WS,MM,avg_sales_value_week > 2112.08,Bottom_SKU_case_per_month > 0.80,avg_num_sub_brand_month <= 5.83,Feminine_Care_Variant > 6.50\n",
      "WS,MM,average_sales_value_week > 2112.08,Bottom_SKU_case_per_month > 0.80,average_num_sub_brand_month > 5.83\n",
      "WS,WS,avg_sales_value_week > 2112.08,Bottom_SKU_case_per_month > 0.80,average_num_sub_brand_month <= 5.83,Feminine_Care_Variant <= 6.50\n",
      "WS,WS,avg_sales_value_week <= 2112.08,Fabric_Care_perf_cond_salience > 0.10\n",
      "WS,WS,avg_sales_value_week > 2112.08,Bottom_SKU_case_per_month <= 0.80,Home_Care_Variant <= 1.50,Hair_Care_perf_cond_salience > 0.00\n",
      "\n"
     ]
    }
   ],
   "source": [
    "import re\n",
    "\n",
    "# 多个查询组成的列表\n",
    "queries = [\n",
    "    \"\"\"HFS,select site_key, INITIAL_channel, case when avg_sales_value_week <= 2112.08 and Fabric_Care_perf_cond_salience <= 0.10 and Total_Variant <= 77.50 and Bottom_SKU_case_per_month <= 1.02 then \"HFS\" when avg_sales_value_week > 2112.08 and Bottom_SKU_case_per_month <= 0.80 and Home_Care_Variant <= 1.50 and Hair_Care_perf_cond_salience <= 0.00 then \"HFS\" when avg_sales_value_week <= 2112.08 and Fabric_Care_perf_cond_salience <= 0.10 and Total_Variant > 77.50 and Home_Care_salience <= 0.01 then \"HFS\" when avg_sales_value_week <= 2112.08 and Fabric_Care_perf_cond_salience <= 0.10 and Total_Variant > 77.50 and Home_Care_salience > 0.01 then \"MM\" when avg_sales_value_week > 2112.08 and Bottom_SKU_case_per_month <= 0.80 and Home_Care_Variant > 1.50 and avg_num_sub_brand_month > 1.38 then \"MM\" when avg_sales_value_week <= 2112.08 and Fabric_Care_perf_cond_salience <= 0.10 and Total_Variant <= 77.50 and Bottom_SKU_case_per_month > 1.02 then \"MM\" when avg_sales_value_week > 2112.08 and Bottom_SKU_case_per_month > 0.80 and avg_num_sub_brand_month <= 5.83 and Feminine_Care_Variant > 6.50 then \"MM\" when avg_sales_value_week > 2112.08 and Bottom_SKU_case_per_month > 0.80 and avg_num_sub_brand_month > 5.83 then \"MM\" when avg_sales_value_week > 2112.08 and Bottom_SKU_case_per_month > 0.80 and avg_num_sub_brand_month <= 5.83 and Feminine_Care_Variant <= 6.50 then \"WS\" when avg_sales_value_week <= 2112.08 and Fabric_Care_perf_cond_salience > 0.10 then \"WS\" when avg_sales_value_week > 2112.08 and Bottom_SKU_case_per_month <= 0.80 and Home_Care_Variant <= 1.50 and Hair_Care_perf_cond_salience > 0.00 then \"WS\" else INITIAL_channel end as ATLANTIS_auto_channel from default.ma_eda_features\"\"\",\n",
    "    \"\"\"WS,select site_key, INITIAL_channel, case when avg_sales_value_week <= 2112.08 and Fabric_Care_perf_cond_salience <= 0.10 and Total_Variant <= 77.50 and Bottom_SKU_case_per_month <= 1.02 then \"HFS\" when avg_sales_value_week > 2112.08 and Bottom_SKU_case_per_month <= 0.80 and Home_Care_Variant <= 1.50 and Hair_Care_perf_cond_salience <= 0.00 then \"HFS\" when avg_sales_value_week <= 2112.08 and Fabric_Care_perf_cond_salience <= 0.10 and Total_Variant > 77.50 and Home_Care_salience <= 0.01 then \"HFS\" when avg_sales_value_week <= 2112.08 and Fabric_Care_perf_cond_salience <= 0.10 and Total_Variant > 77.50 and Home_Care_salience > 0.01 then \"MM\" when avg_sales_value_week > 2112.08 and Bottom_SKU_case_per_month <= 0.80 and Home_Care_Variant > 1.50 and avg_num_sub_brand_month > 1.38 then \"MM\" when avg_sales_value_week <= 2112.08 and Fabric_Care_perf_cond_salience <= 0.10 and Total_Variant <= 77.50 and Bottom_SKU_case_per_month > 1.02 then \"MM\" when avg_sales_value_week > 2112.08 and Bottom_SKU_case_per_month > 0.80 and avg_num_sub_brand_month <= 5.83 and Feminine_Care_Variant > 6.50 then \"MM\" when average_sales_value_week > 2112.08 and Bottom_SKU_case_per_month > 0.80 and average_num_sub_brand_month > 5.83 then \"MM\" when avg_sales_value_week > 2112.08 and Bottom_SKU_case_per_month > 0.80 and average_num_sub_brand_month <= 5.83 and Feminine_Care_Variant <= 6.50 then \"WS\" when avg_sales_value_week <= 2112.08 and Fabric_Care_perf_cond_salience > 0.10 then \"WS\" when avg_sales_value_week > 2112.08 and Bottom_SKU_case_per_month <= 0.80 and Home_Care_Variant <= 1.50 and Hair_Care_perf_cond_salience > 0.00 then \"WS\" else INITIAL_channel end as ATLANTIS_auto_channel from default.ma_eda_features\"\"\"\n",
    "]\n",
    "\n",
    "formatted_result = []\n",
    "\n",
    "for query in queries:\n",
    "    first_part = query.split(',')[0]\n",
    "    case_parts = re.findall(r'when\\s+(.*?)\\s+then\\s+\"(.*?)\"', query)\n",
    "\n",
    "    for condition, result in case_parts:\n",
    "        conditions = condition.split(' and ')\n",
    "        formatted_line = [first_part, result] + conditions\n",
    "        formatted_result.append(','.join(formatted_line) + '\\n')\n",
    "\n",
    "final_output = ''.join(formatted_result)\n",
    "print(final_output)"
   ]
  },
  {
   "cell_type": "code",
   "execution_count": 18,
   "id": "1e8360ce-da07-495d-b191-e18f5d3b799d",
   "metadata": {},
   "outputs": [
    {
     "name": "stdout",
     "output_type": "stream",
     "text": [
      "Home_Care_salience <= 0.00 and Feminine_Care_salience > 0.09 and Feminine_Care_Variant <= 6.50 and sales_value_monthly <= 763.81 and `SKU_2_3_%` > 0.00\n"
     ]
    }
   ],
   "source": [
    "import re\n",
    "\n",
    "def format_expression(expression):\n",
    "    pattern = r'([^\\s]+%)\\s*(>=|<=|>|<)\\s*'\n",
    "    \n",
    "    def repl(match):\n",
    "        first_part = '`{}`'.format(match.group(1))\n",
    "        return '{} {} '.format(first_part, match.group(2))\n",
    "    \n",
    "    formatted_expression = re.sub(pattern, repl, expression)\n",
    "    formatted_expression = re.sub(r'\\s+and\\s+', ' and ', formatted_expression)\n",
    "    formatted_expression = re.sub(r'\\s+or\\s+', ' or ', formatted_expression)\n",
    "\n",
    "    return formatted_expression\n",
    "\n",
    "\n",
    "expression = \"Home_Care_salience <= 0.00 and Feminine_Care_salience > 0.09 and Feminine_Care_Variant <= 6.50 and sales_value_monthly <= 763.81 and SKU_2_3_% > 0.00\"\n",
    "formatted_expression = format_expression(expression)\n",
    "print(formatted_expression)\n"
   ]
  },
  {
   "cell_type": "code",
   "execution_count": 20,
   "id": "2d0cea60-300e-4659-8d14-4e480a014937",
   "metadata": {},
   "outputs": [
    {
     "name": "stdout",
     "output_type": "stream",
     "text": [
      ",WS,avg_sales_value_week > 2112.08\n",
      ",WS,avg_sales_value_week > 2112.08,Bottom_SKU_case_per_month <= 0.80\n",
      ",WS,avg_sales_value_week > 2112.08,Bottom_SKU_case_per_month <= 0.80,Home_Care_Variant <= 1.50\n",
      ",WS,avg_sales_value_week > 2112.08,Bottom_SKU_case_per_month <= 0.80,Home_Care_Variant <= 1.50,Hair_Care_perf_cond_salience > 0.00\n"
     ]
    }
   ],
   "source": [
    "import re\n",
    "\n",
    "sql = \"\"\"\n",
    "        select site_key, INITIAL_channel,\n",
    "        case\n",
    "        when `avg_sales_value_week` <= 2112.08 and `Fabric_Care_perf_cond_rate%` <= 0.10 and `Total_Variant` <= 77.50 and `Bottom_SKU_case_per_month` <= 1.02 then \"HFS\"\n",
    "        when `vg_sales_value_week` > 2112.08 and `Bottom_SKU_case_per_month` <= 0.80 and `Home_Care_Variant` <= 1.50 and `Hair_Care_perf_cond_salience` <= 0.00 then \"HFS\"\n",
    "        when `vg_sales_value_week` <= 2112.08 and `Fabric_Care_perf_cond_salience` <= 0.10 and `Total_Variant` > 77.50 and `Home_Care_salience` <= 0.01 then \"HFS\"\n",
    "        when `vg_sales_value_week` <= 2112.08 and `Fabric_Care_perf_cond_salience` <= 0.10 and `Total_Variant` > 77.50 and `Home_Care_salience` > 0.01 then \"MM\"\n",
    "        when `vg_sales_value_week` > 2112.08 and `Bottom_SKU_case_per_month` <= 0.80 and `Home_Care_Variant` > 1.50 and `avg_num_sub_brand_month` > 1.38 then \"MM\"\n",
    "        end as auto_channel\n",
    "        from default.ma_eda_features\n",
    "\"\"\"\n",
    "\n",
    "case_part = re.findall(r\"case(.*?)end as\", sql, re.DOTALL)[0]\n",
    "\n",
    "conditions = re.findall(r\"when(.*?)then '(.*?)'\", case_part, re.DOTALL)\n",
    "\n",
    "output = []\n",
    "formatted_conditions = []\n",
    "for cond in condition.split(' and '):\n",
    "    if '%' in re.split(r'[<>]', cond)[0]:\n",
    "        formatted_conditions.append(cond.strip())\n",
    "    else:\n",
    "        formatted_conditions.append(cond.replace(\"`\", \"\").strip())\n",
    "    output_line = f\",{result},\" + \",\".join(formatted_conditions)\n",
    "    output.append(output_line)\n",
    "\n",
    "for line in output:\n",
    "    print(line)"
   ]
  },
  {
   "cell_type": "code",
   "execution_count": 21,
   "id": "b0582234-84f7-4527-a1b4-5e1a2ebaf4b8",
   "metadata": {},
   "outputs": [
    {
     "name": "stdout",
     "output_type": "stream",
     "text": [
      "depth_2_tree.png\n"
     ]
    }
   ],
   "source": [
    "import os\n",
    "image_path=\"/dbfs/pyrogai_run/dev/2024/11/13/2024-11-13T07-33-51_1731483228.4545808/auto_channel/depth_2_tree.png\"\n",
    "file_name = os.path.basename(image_path)\n",
    "print(file_name)"
   ]
  },
  {
   "cell_type": "code",
   "execution_count": 23,
   "id": "295c6716-5493-4928-90c0-640c186e335f",
   "metadata": {},
   "outputs": [
    {
     "name": "stdout",
     "output_type": "stream",
     "text": [
      ",HFS,avg_sales_value_week <= 2112.08,`Fabric_Care_perf_cond_rate%` <= 0.10,Total_Variant <= 77.50,Bottom_SKU_case_per_month <= 1.02\n",
      ",HFS,vg_sales_value_week > 2112.08,Bottom_SKU_case_per_month <= 0.80,Home_Care_Variant <= 1.50,Hair_Care_perf_cond_salience <= 0.00\n",
      ",HFS,vg_sales_value_week <= 2112.08,Fabric_Care_perf_cond_salience <= 0.10,Total_Variant > 77.50,Home_Care_salience <= 0.01\n",
      ",MM,vg_sales_value_week <= 2112.08,Fabric_Care_perf_cond_salience <= 0.10,Total_Variant > 77.50,Home_Care_salience > 0.01\n",
      ",MM,vg_sales_value_week > 2112.08,Bottom_SKU_case_per_month <= 0.80,Home_Care_Variant > 1.50,avg_num_sub_brand_month > 1.38\n"
     ]
    }
   ],
   "source": [
    "sql = \"\"\"\n",
    "    select site_key, INITIAL_channel,\n",
    "        case\n",
    "        when `avg_sales_value_week` <= 2112.08 and `Fabric_Care_perf_cond_rate%` <= 0.10 and `Total_Variant` <= 77.50 and `Bottom_SKU_case_per_month` <= 1.02 then \"HFS\"\n",
    "        when `vg_sales_value_week` > 2112.08 and `Bottom_SKU_case_per_month` <= 0.80 and `Home_Care_Variant` <= 1.50 and `Hair_Care_perf_cond_salience` <= 0.00 then \"HFS\"\n",
    "        when `vg_sales_value_week` <= 2112.08 and `Fabric_Care_perf_cond_salience` <= 0.10 and `Total_Variant` > 77.50 and `Home_Care_salience` <= 0.01 then \"HFS\"\n",
    "        when `vg_sales_value_week` <= 2112.08 and `Fabric_Care_perf_cond_salience` <= 0.10 and `Total_Variant` > 77.50 and `Home_Care_salience` > 0.01 then \"MM\"\n",
    "        when `vg_sales_value_week` > 2112.08 and `Bottom_SKU_case_per_month` <= 0.80 and `Home_Care_Variant` > 1.50 and `avg_num_sub_brand_month` > 1.38 then \"MM\"\n",
    "        end as auto_channel\n",
    "        from default.ma_eda_features\n",
    "\"\"\"\n",
    "\n",
    "\n",
    "# 提取 CASE 部分\n",
    "case_part = re.findall(r\"case(.*?)end\\s*\", sql, re.DOTALL)\n",
    "if case_part:\n",
    "    case_content = case_part[0]\n",
    "\n",
    "# 通过'when' 和 'then' 解析所有条件和结果\n",
    "conditions = re.findall(r\"when(.*?)then \\\"(.*?)\\\"\", case_content, re.DOTALL)\n",
    "\n",
    "output = []\n",
    "for condition, result in conditions:\n",
    "    # 移除条件中不必要的单引号（如果操作符前没有%）\n",
    "    formatted_conditions = []\n",
    "    for cond in condition.split(' and '):\n",
    "        if '%' in re.split(r'[<>]', cond)[0]:\n",
    "            formatted_conditions.append(cond.strip())\n",
    "        else:\n",
    "            formatted_conditions.append(cond.replace(\"`\", \"\").strip())\n",
    "    output_line = f\",{result},\" + \",\".join(formatted_conditions)\n",
    "    output.append(output_line)\n",
    "\n",
    "for line in output:\n",
    "    print(line)"
   ]
  },
  {
   "cell_type": "code",
   "execution_count": 24,
   "id": "a3d6d0aa-4f91-4d00-8c87-c5e78ef18865",
   "metadata": {},
   "outputs": [
    {
     "name": "stdout",
     "output_type": "stream",
     "text": [
      "找到匹配： when `avg_sales_value_week` <= 2112.08 and `Fabric_Care_perf_cond_rate%` <= 0.10 and `Total_Variant` <= 77.50 and `Bottom_SKU_case_per_month` <= 1.02 then \"HFS\"\n",
      "        when `vg_sales_value_week` > 2112.08 and `Bottom_SKU_case_per_month` <= 0.80 and `Home_Care_Variant` <= 1.50 and `Hair_Care_perf_cond_salience` <= 0.00 then \"HFS\"\n",
      "        when `vg_sales_value_week` <= 2112.08 and `Fabric_Care_perf_cond_salience` <= 0.10 and `Total_Variant` > 77.50 and `Home_Care_salience` <= 0.01 then \"HFS\"\n",
      "        when `vg_sales_value_week` <= 2112.08 and `Fabric_Care_perf_cond_salience` <= 0.10 and `Total_Variant` > 77.50 and `Home_Care_salience` > 0.01 then \"MM\"\n",
      "        when `vg_sales_value_week` > 2112.08 and `Bottom_SKU_case_per_month` <= 0.80 and `Home_Care_Variant` > 1.50 and `avg_num_sub_brand_month` > 1.38 then \"MM\"\n"
     ]
    }
   ],
   "source": [
    "import re\n",
    "\n",
    "sql = \"\"\"\n",
    "    select site_key, INITIAL_channel,\n",
    "        case\n",
    "        when `avg_sales_value_week` <= 2112.08 and `Fabric_Care_perf_cond_rate%` <= 0.10 and `Total_Variant` <= 77.50 and `Bottom_SKU_case_per_month` <= 1.02 then \"HFS\"\n",
    "        when `vg_sales_value_week` > 2112.08 and `Bottom_SKU_case_per_month` <= 0.80 and `Home_Care_Variant` <= 1.50 and `Hair_Care_perf_cond_salience` <= 0.00 then \"HFS\"\n",
    "        when `vg_sales_value_week` <= 2112.08 and `Fabric_Care_perf_cond_salience` <= 0.10 and `Total_Variant` > 77.50 and `Home_Care_salience` <= 0.01 then \"HFS\"\n",
    "        when `vg_sales_value_week` <= 2112.08 and `Fabric_Care_perf_cond_salience` <= 0.10 and `Total_Variant` > 77.50 and `Home_Care_salience` > 0.01 then \"MM\"\n",
    "        when `vg_sales_value_week` > 2112.08 and `Bottom_SKU_case_per_month` <= 0.80 and `Home_Care_Variant` > 1.50 and `avg_num_sub_brand_month` > 1.38 then \"MM\"\n",
    "        end\n",
    "        from default.ma_eda_features\n",
    "\"\"\"\n",
    "\n",
    "# 尝试匹配 case 到 end，包含多种可能的结尾\n",
    "case_part = re.findall(r\"case(.*?)end\\s*\", sql, re.DOTALL)\n",
    "if case_part:\n",
    "    case_content = case_part[0]\n",
    "    print(\"找到匹配：\", case_content.strip())\n",
    "else:\n",
    "    print(\"未找到匹配项。\")"
   ]
  },
  {
   "cell_type": "code",
   "execution_count": 25,
   "id": "ec8e0027-70cc-492d-9010-dd996ad37057",
   "metadata": {},
   "outputs": [
    {
     "name": "stdout",
     "output_type": "stream",
     "text": [
      "HFS,avg_sales_value_week <= 2112.08,`Fabric_Care_perf_cond_rate%` <= 0.10,Total_Variant <= 77.50,Bottom_SKU_case_per_month <= 1.02\n",
      "HFS,vg_sales_value_week > 2112.08,Bottom_SKU_case_per_month <= 0.80,Home_Care_Variant <= 1.50,Hair_Care_perf_cond_salience <= 0.00\n",
      "HFS,vg_sales_value_week <= 2112.08,Fabric_Care_perf_cond_salience <= 0.10,Total_Variant > 77.50,Home_Care_salience <= 0.01\n",
      "MM,vg_sales_value_week <= 2112.08,Fabric_Care_perf_cond_salience <= 0.10,Total_Variant > 77.50,Home_Care_salience > 0.01\n",
      "MM,vg_sales_value_week > 2112.08,Bottom_SKU_case_per_month <= 0.80,Home_Care_Variant > 1.50,avg_num_sub_brand_month > 1.38\n"
     ]
    }
   ],
   "source": [
    "import re\n",
    "\n",
    "sql = \"\"\"\n",
    "    select site_key, INITIAL_channel,\n",
    "        case\n",
    "        when `avg_sales_value_week` <= 2112.08 and `Fabric_Care_perf_cond_rate%` <= 0.10 and `Total_Variant` <= 77.50 and `Bottom_SKU_case_per_month` <= 1.02 then \"HFS\"\n",
    "        when `vg_sales_value_week` > 2112.08 and `Bottom_SKU_case_per_month` <= 0.80 and `Home_Care_Variant` <= 1.50 and `Hair_Care_perf_cond_salience` <= 0.00 then \"HFS\"\n",
    "        when `vg_sales_value_week` <= 2112.08 and `Fabric_Care_perf_cond_salience` <= 0.10 and `Total_Variant` > 77.50 and `Home_Care_salience` <= 0.01 then \"HFS\"\n",
    "        when `vg_sales_value_week` <= 2112.08 and `Fabric_Care_perf_cond_salience` <= 0.10 and `Total_Variant` > 77.50 and `Home_Care_salience` > 0.01 then \"MM\"\n",
    "        when `vg_sales_value_week` > 2112.08 and `Bottom_SKU_case_per_month` <= 0.80 and `Home_Care_Variant` > 1.50 and `avg_num_sub_brand_month` > 1.38 then \"MM\"\n",
    "        end\n",
    "        from default.ma_eda_features\n",
    "\"\"\"\n",
    "\n",
    "case_parts = re.findall(r\"case(.*?)end\", sql, re.DOTALL)\n",
    "if case_parts:\n",
    "    case_content = case_parts[0]\n",
    "\n",
    "    # get condition part between when and then\n",
    "    conditions = re.findall(r\"when(.*?)then \\\"(.*?)\\\"\", case_content, re.DOTALL)\n",
    "\n",
    "    output = []\n",
    "    for condition, result in conditions:\n",
    "        # remove `` when there is no % in the column name\n",
    "        formatted_conditions = []\n",
    "        for cond in condition.split(' and '):\n",
    "            if '%' in re.split(r'[<>]', cond)[0]:\n",
    "                formatted_conditions.append(cond.strip())\n",
    "            else:\n",
    "                formatted_conditions.append(cond.replace(\"`\", \"\").strip())\n",
    "        output_line = f\"{result},\" + \",\".join(formatted_conditions)\n",
    "        output.append(output_line)\n",
    "    parsed_result = (\"\\n\".join(output))\n",
    "else:\n",
    "    print(\"there is no case string\")\n",
    "    parsed_result = None\n",
    "    \n",
    "print(parsed_result)"
   ]
  },
  {
   "cell_type": "code",
   "execution_count": 26,
   "id": "e91d56b0-6030-4ca8-97be-978f8f3ab160",
   "metadata": {},
   "outputs": [
    {
     "data": {
      "text/plain": [
       "'HFS,avg_sales_value_week <= 2112.08,`Fabric_Care_perf_cond_rate%` <= 0.10,Total_Variant <= 77.50,Bottom_SKU_case_per_month <= 1.02\\nHFS,vg_sales_value_week > 2112.08,Bottom_SKU_case_per_month <= 0.80,Home_Care_Variant <= 1.50,Hair_Care_perf_cond_salience <= 0.00\\nHFS,vg_sales_value_week <= 2112.08,Fabric_Care_perf_cond_salience <= 0.10,Total_Variant > 77.50,Home_Care_salience <= 0.01\\nMM,vg_sales_value_week <= 2112.08,Fabric_Care_perf_cond_salience <= 0.10,Total_Variant > 77.50,Home_Care_salience > 0.01\\nMM,vg_sales_value_week > 2112.08,Bottom_SKU_case_per_month <= 0.80,Home_Care_Variant > 1.50,avg_num_sub_brand_month > 1.38'"
      ]
     },
     "execution_count": 26,
     "metadata": {},
     "output_type": "execute_result"
    }
   ],
   "source": [
    "import re \n",
    "def parse_default_stage_rules(query_string):\n",
    "    # Get case part\n",
    "    case_parts = re.findall(r\"case(.*?)end\", query_string, re.DOTALL)\n",
    "    if case_parts:\n",
    "        case_content = case_parts[0]\n",
    "\n",
    "        # get condition part between when and then\n",
    "        conditions = re.findall(r\"when(.*?)then \\\"(.*?)\\\"\", case_content, re.DOTALL)\n",
    "\n",
    "        output = []\n",
    "        for condition, result in conditions:\n",
    "            # remove `` when there is no % in the column name\n",
    "            formatted_conditions = []\n",
    "            for cond in condition.split(' and '):\n",
    "                if '%' in re.split(r'[<>]', cond)[0]:\n",
    "                    formatted_conditions.append(cond.strip())\n",
    "                else:\n",
    "                    formatted_conditions.append(cond.replace(\"`\", \"\").strip())\n",
    "            output_line = f\"{result},\" + \",\".join(formatted_conditions)\n",
    "            output.append(output_line)\n",
    "        parsed_result = (\"\\n\".join(output))\n",
    "    else:\n",
    "        parsed_result = None\n",
    "    return parsed_result\n",
    "\n",
    "sql = \"\"\"\n",
    "    select site_key, INITIAL_channel,\n",
    "        case\n",
    "        when `avg_sales_value_week` <= 2112.08 and `Fabric_Care_perf_cond_rate%` <= 0.10 and `Total_Variant` <= 77.50 and `Bottom_SKU_case_per_month` <= 1.02 then \"HFS\"\n",
    "        when `vg_sales_value_week` > 2112.08 and `Bottom_SKU_case_per_month` <= 0.80 and `Home_Care_Variant` <= 1.50 and `Hair_Care_perf_cond_salience` <= 0.00 then \"HFS\"\n",
    "        when `vg_sales_value_week` <= 2112.08 and `Fabric_Care_perf_cond_salience` <= 0.10 and `Total_Variant` > 77.50 and `Home_Care_salience` <= 0.01 then \"HFS\"\n",
    "        when `vg_sales_value_week` <= 2112.08 and `Fabric_Care_perf_cond_salience` <= 0.10 and `Total_Variant` > 77.50 and `Home_Care_salience` > 0.01 then \"MM\"\n",
    "        when `vg_sales_value_week` > 2112.08 and `Bottom_SKU_case_per_month` <= 0.80 and `Home_Care_Variant` > 1.50 and `avg_num_sub_brand_month` > 1.38 then \"MM\"\n",
    "        end\n",
    "        from default.ma_eda_features\n",
    "\"\"\"\n",
    "\n",
    "\n",
    "parse_default_stage_rules(sql)"
   ]
  },
  {
   "cell_type": "code",
   "execution_count": 27,
   "id": "5e4b4b3e-ef7d-4ddb-b6af-25b88f738ccd",
   "metadata": {},
   "outputs": [
    {
     "name": "stdout",
     "output_type": "stream",
     "text": [
      "HFS,avg_sales_value_week <= 2112.08,`Fabric_Care_perf_cond_rate%` <= 0.10,Total_Variant <= 77.50,Bottom_SKU_case_per_month <= 1.02\n",
      "HFS,vg_sales_value_week > 2112.08,Bottom_SKU_case_per_month <= 0.80,Home_Care_Variant <= 1.50,Hair_Care_perf_cond_salience <= 0.00\n",
      "HFS,vg_sales_value_week <= 2112.08,Fabric_Care_perf_cond_salience <= 0.10,Total_Variant > 77.50,Home_Care_salience <= 0.01\n",
      "MM,vg_sales_value_week <= 2112.08,Fabric_Care_perf_cond_salience <= 0.10,Total_Variant > 77.50,Home_Care_salience > 0.01\n",
      "MM,vg_sales_value_week > 2112.08,Bottom_SKU_case_per_month <= 0.80,Home_Care_Variant > 1.50,avg_num_sub_brand_month > 1.38\n",
      "\n"
     ]
    }
   ],
   "source": [
    "query_string = \"\"\"\n",
    "    select site_key, INITIAL_channel,\n",
    "        case\n",
    "        when `avg_sales_value_week` <= 2112.08 and `Fabric_Care_perf_cond_rate%` <= 0.10 and `Total_Variant` <= 77.50 and `Bottom_SKU_case_per_month` <= 1.02 then \"HFS\"\n",
    "        when `vg_sales_value_week` > 2112.08 and `Bottom_SKU_case_per_month` <= 0.80 and `Home_Care_Variant` <= 1.50 and `Hair_Care_perf_cond_salience` <= 0.00 then \"HFS\"\n",
    "        when `vg_sales_value_week` <= 2112.08 and `Fabric_Care_perf_cond_salience` <= 0.10 and `Total_Variant` > 77.50 and `Home_Care_salience` <= 0.01 then \"HFS\"\n",
    "        when `vg_sales_value_week` <= 2112.08 and `Fabric_Care_perf_cond_salience` <= 0.10 and `Total_Variant` > 77.50 and `Home_Care_salience` > 0.01 then \"MM\"\n",
    "        when `vg_sales_value_week` > 2112.08 and `Bottom_SKU_case_per_month` <= 0.80 and `Home_Care_Variant` > 1.50 and `avg_num_sub_brand_month` > 1.38 then \"MM\"\n",
    "        end\n",
    "        from default.ma_eda_features\n",
    "\"\"\"\n",
    "case_parts = re.findall(r\"case(.*?)end\", query_string, re.DOTALL)\n",
    "for case_part in case_parts:\n",
    "    conditions = re.findall(r\"when(.*?)then \\\"(.*?)\\\"\", case_part, re.DOTALL)\n",
    "    output = []\n",
    "    for condition, result in conditions:\n",
    "        # remove `` when there is no % in the column name\n",
    "        formatted_conditions = []\n",
    "        for cond in condition.split(' and '):\n",
    "            if '%' in re.split(r'[<>]', cond)[0]:\n",
    "                formatted_conditions.append(cond.strip())\n",
    "            else:\n",
    "                formatted_conditions.append(cond.replace(\"`\", \"\").strip())\n",
    "        output_line = f\"{result},\" + \",\".join(formatted_conditions) + \"\\n\"\n",
    "        output.append(output_line)\n",
    "    parsed_result = (\"\".join(output))\n",
    "print(parsed_result)"
   ]
  },
  {
   "cell_type": "code",
   "execution_count": 28,
   "id": "b152c9c4-78af-4329-ab14-8dbe013eeec7",
   "metadata": {},
   "outputs": [
    {
     "data": {
      "text/plain": [
       "'HFS,avg_sales_value_week <= 2112.08,`Fabric_Care_perf_cond_rate%` <= 0.10,Total_Variant <= 77.50,Bottom_SKU_case_per_month <= 1.02\\nHFS,vg_sales_value_week > 2112.08,Bottom_SKU_case_per_month <= 0.80,Home_Care_Variant <= 1.50,Hair_Care_perf_cond_salience <= 0.00\\nHFS,vg_sales_value_week <= 2112.08,Fabric_Care_perf_cond_salience <= 0.10,Total_Variant > 77.50,Home_Care_salience <= 0.01\\nMM,vg_sales_value_week <= 2112.08,Fabric_Care_perf_cond_salience <= 0.10,Total_Variant > 77.50,Home_Care_salience > 0.01\\nMM,vg_sales_value_week > 2112.08,Bottom_SKU_case_per_month <= 0.80,Home_Care_Variant > 1.50,avg_num_sub_brand_month > 1.38\\n'"
      ]
     },
     "execution_count": 28,
     "metadata": {},
     "output_type": "execute_result"
    }
   ],
   "source": [
    "def parse_default_stage_rules(query_string):\n",
    "    # Get case part\n",
    "    case_parts = re.findall(r\"case(.*?)end\", query_string, re.DOTALL)\n",
    "    for case_part in case_parts:\n",
    "        conditions = re.findall(r\"when(.*?)then \\\"(.*?)\\\"\", case_part, re.DOTALL)\n",
    "        output = []\n",
    "        for condition, result in conditions:\n",
    "            # remove `` when there is no % in the column name\n",
    "            formatted_conditions = []\n",
    "            for cond in condition.split(' and '):\n",
    "                if '%' in re.split(r'[<>]', cond)[0]:\n",
    "                    formatted_conditions.append(cond.strip())\n",
    "                else:\n",
    "                    formatted_conditions.append(cond.replace(\"`\", \"\").strip())\n",
    "            output_line = f\"{result},\" + \",\".join(formatted_conditions) + \"\\n\"\n",
    "            output.append(output_line)\n",
    "        return (\"\".join(output))\n",
    "\n",
    "query_string = \"\"\"\n",
    "    select site_key, INITIAL_channel,\n",
    "        case\n",
    "        when `avg_sales_value_week` <= 2112.08 and `Fabric_Care_perf_cond_rate%` <= 0.10 and `Total_Variant` <= 77.50 and `Bottom_SKU_case_per_month` <= 1.02 then \"HFS\"\n",
    "        when `vg_sales_value_week` > 2112.08 and `Bottom_SKU_case_per_month` <= 0.80 and `Home_Care_Variant` <= 1.50 and `Hair_Care_perf_cond_salience` <= 0.00 then \"HFS\"\n",
    "        when `vg_sales_value_week` <= 2112.08 and `Fabric_Care_perf_cond_salience` <= 0.10 and `Total_Variant` > 77.50 and `Home_Care_salience` <= 0.01 then \"HFS\"\n",
    "        when `vg_sales_value_week` <= 2112.08 and `Fabric_Care_perf_cond_salience` <= 0.10 and `Total_Variant` > 77.50 and `Home_Care_salience` > 0.01 then \"MM\"\n",
    "        when `vg_sales_value_week` > 2112.08 and `Bottom_SKU_case_per_month` <= 0.80 and `Home_Care_Variant` > 1.50 and `avg_num_sub_brand_month` > 1.38 then \"MM\"\n",
    "        end\n",
    "        from default.ma_eda_features\n",
    "\"\"\"\n",
    "parse_default_stage_rules(query_string)\n"
   ]
  },
  {
   "cell_type": "code",
   "execution_count": 30,
   "id": "5373c2f4-6ec9-4ce9-a645-03eea04c0ae4",
   "metadata": {},
   "outputs": [
    {
     "name": "stdout",
     "output_type": "stream",
     "text": [
      "['\\nwhen `avg_sales_value_week` <= 2112.08 and `Fabric_Care_perf_cond_rate%` <= 0.10 and `Total_Variant` <= 77.50 and `Bottom_SKU_case_per_month` <= 1.02 then \"HFS\"\\nwhen `vg_sales_value_week` > 2112.08 and `Bottom_SKU_case_per_month` <= 0.80 and `Home_Care_Variant` <= 1.50 and `Hair_Care_perf_cond_salience` <= 0.00 then \"HFS\"\\nwhen `vg_sales_value_week` <= 2112.08 and `Fabric_Care_perf_cond_salience` <= 0.10 and `Total_Variant` > 77.50 and `Home_Care_salience` <= 0.01 then \"HFS\"\\nwhen `vg_sales_value_week` <= 2112.08 and `Fabric_Care_perf_cond_salience` <= 0.10 and `Total_Variant` > 77.50 and `Home_Care_salience` > 0.01 then \"MM\"\\nwhen `vg_sales_value_week` > 2112.08 and `Bottom_SKU_case_per_month` <= 0.80 and `Home_Care_Variant` > 1.50 and `avg_num_sub_brand_month` > 1.38 then \"MM\"\\n']\n"
     ]
    }
   ],
   "source": [
    "import re\n",
    "\n",
    "query_string = \"\"\"\n",
    "select site_key, INITIAL_channel,\n",
    "case\n",
    "when `avg_sales_value_week` <= 2112.08 and `Fabric_Care_perf_cond_rate%` <= 0.10 and `Total_Variant` <= 77.50 and `Bottom_SKU_case_per_month` <= 1.02 then \"HFS\"\n",
    "when `vg_sales_value_week` > 2112.08 and `Bottom_SKU_case_per_month` <= 0.80 and `Home_Care_Variant` <= 1.50 and `Hair_Care_perf_cond_salience` <= 0.00 then \"HFS\"\n",
    "when `vg_sales_value_week` <= 2112.08 and `Fabric_Care_perf_cond_salience` <= 0.10 and `Total_Variant` > 77.50 and `Home_Care_salience` <= 0.01 then \"HFS\"\n",
    "when `vg_sales_value_week` <= 2112.08 and `Fabric_Care_perf_cond_salience` <= 0.10 and `Total_Variant` > 77.50 and `Home_Care_salience` > 0.01 then \"MM\"\n",
    "when `vg_sales_value_week` > 2112.08 and `Bottom_SKU_case_per_month` <= 0.80 and `Home_Care_Variant` > 1.50 and `avg_num_sub_brand_month` > 1.38 then \"MM\"\n",
    "end as auto_channel\n",
    "from default.ma_eda_features\n",
    "\"\"\"\n",
    "case_parts = re.findall(r\"case(.*?)end\", query_string, re.DOTALL)\n",
    "print(case_parts)"
   ]
  },
  {
   "cell_type": "code",
   "execution_count": 31,
   "id": "e67a4a75-eeb2-4f9b-8a81-5dd7fba44cd7",
   "metadata": {},
   "outputs": [
    {
     "name": "stdout",
     "output_type": "stream",
     "text": [
      "HFS,'Top_SKU_case_per_month' <= 0.31,'Top_SKU_case_per_month' <= 0.23,'Top_SKU_case_per_month' <= 0.17,'Bottom_SKU_case_per_month' <= 0.38\n",
      "HFS,'Top_SKU_case_per_month' <= 0.31,'Top_SKU_case_per_month' <= 0.23,'Top_SKU_case_per_month' > 0.17,'Bottom_SKU_case_per_month' <= 0.14\n",
      "HFS,'Top_SKU_case_per_month' <= 0.31,'Top_SKU_case_per_month' <= 0.23,'Top_SKU_case_per_month' > 0.17,'Bottom_SKU_case_per_month' > 0.14\n",
      "HFS,'Top_SKU_case_per_month' <= 0.31,'Top_SKU_case_per_month' > 0.23,'Bottom_SKU_case_per_month' <= 0.12,'Top_SKU_trans_month' <= 0.31\n",
      "HFS,'Top_SKU_case_per_month' <= 0.31,'Top_SKU_case_per_month' > 0.23,'Bottom_SKU_case_per_month' <= 0.12,'Top_SKU_trans_month' > 0.31\n",
      "HFS,'Top_SKU_case_per_month' <= 0.31,'Top_SKU_case_per_month' > 0.23,'Bottom_SKU_case_per_month' > 0.12,'Sachet_salience' > 0.13\n",
      "HFS,'Top_SKU_case_per_month' > 0.31,'Top_SKU_case_per_month' <= 0.39,'Bottom_SKU_case_per_month' <= 0.11,'all_other_size_salience' > 0.28\n",
      "HFS,'Top_SKU_case_per_month' > 0.31,'Top_SKU_case_per_month' > 0.39,'Bottom_SKU_case_per_month' <= 0.02,'Top_SKU_trans_month' <= 0.34\n",
      "WS,'Top_SKU_case_per_month' <= 0.31,'Top_SKU_case_per_month' <= 0.23,'Top_SKU_case_per_month' <= 0.17,'Bottom_SKU_case_per_month' > 0.38\n",
      "WS,'Top_SKU_case_per_month' <= 0.31,'Top_SKU_case_per_month' > 0.23,'Bottom_SKU_case_per_month' > 0.12,'Sachet_salience' <= 0.13\n",
      "WS,'Top_SKU_case_per_month' > 0.31,'Top_SKU_case_per_month' <= 0.39,'Bottom_SKU_case_per_month' <= 0.11,'all_other_size_salience' <= 0.28\n",
      "WS,'Top_SKU_case_per_month' > 0.31,'Top_SKU_case_per_month' <= 0.39,'Bottom_SKU_case_per_month' > 0.11,'Sachet_salience' <= 0.25\n",
      "WS,'Top_SKU_case_per_month' > 0.31,'Top_SKU_case_per_month' <= 0.39,'Bottom_SKU_case_per_month' > 0.11,'Sachet_salience' > 0.25\n",
      "WS,'Top_SKU_case_per_month' > 0.31,'Top_SKU_case_per_month' > 0.39,'Bottom_SKU_case_per_month' <= 0.02,'Top_SKU_trans_month' > 0.34\n",
      "WS,'Top_SKU_case_per_month' > 0.31,'Top_SKU_case_per_month' > 0.39,'Bottom_SKU_case_per_month' > 0.02\n",
      "\n"
     ]
    }
   ],
   "source": [
    "def parse_default_stage_rules(query_string):\n",
    "    # Get case part\n",
    "    case_part = re.findall(r\"case(.*?)end\", query_string, re.DOTALL)[0]\n",
    "    output = []\n",
    "    result = []\n",
    "\n",
    "    conditions = re.findall(r\"when(.*?)then '(.*?)'\", case_part, re.DOTALL)\n",
    "    for condition, result in conditions:\n",
    "        # remove `` when there is no % in the column name\n",
    "        formatted_conditions = []\n",
    "        for cond in condition.split(' and '):\n",
    "            if '%' in re.split(r'[<>]', cond)[0]:\n",
    "                formatted_conditions.append(cond.strip())\n",
    "            else:\n",
    "                formatted_conditions.append(cond.replace(\"`\", \"\").strip())\n",
    "        output_line = f\"{result},\" + \",\".join(formatted_conditions) + \"\\n\"\n",
    "        output.append(output_line)\n",
    "    result=(\"\".join(output))\n",
    "    return result\n",
    "\n",
    "query_string = \"\"\"\n",
    "select site_key, INITIAL_channel,\n",
    "case\n",
    "\twhen 'Top_SKU_case_per_month' <= 0.31 and 'Top_SKU_case_per_month' <= 0.23 and 'Top_SKU_case_per_month' <= 0.17 and 'Bottom_SKU_case_per_month' <= 0.38 then 'HFS'\n",
    "\twhen 'Top_SKU_case_per_month' <= 0.31 and 'Top_SKU_case_per_month' <= 0.23 and 'Top_SKU_case_per_month' > 0.17 and 'Bottom_SKU_case_per_month' <= 0.14 then 'HFS'\n",
    "\twhen 'Top_SKU_case_per_month' <= 0.31 and 'Top_SKU_case_per_month' <= 0.23 and 'Top_SKU_case_per_month' > 0.17 and 'Bottom_SKU_case_per_month' > 0.14 then 'HFS'\n",
    "\twhen 'Top_SKU_case_per_month' <= 0.31 and 'Top_SKU_case_per_month' > 0.23 and 'Bottom_SKU_case_per_month' <= 0.12 and 'Top_SKU_trans_month' <= 0.31 then 'HFS'\n",
    "\twhen 'Top_SKU_case_per_month' <= 0.31 and 'Top_SKU_case_per_month' > 0.23 and 'Bottom_SKU_case_per_month' <= 0.12 and 'Top_SKU_trans_month' > 0.31 then 'HFS'\n",
    "\twhen 'Top_SKU_case_per_month' <= 0.31 and 'Top_SKU_case_per_month' > 0.23 and 'Bottom_SKU_case_per_month' > 0.12 and 'Sachet_salience' > 0.13 then 'HFS'\n",
    "\twhen 'Top_SKU_case_per_month' > 0.31 and 'Top_SKU_case_per_month' <= 0.39 and 'Bottom_SKU_case_per_month' <= 0.11 and 'all_other_size_salience' > 0.28 then 'HFS'\n",
    "\twhen 'Top_SKU_case_per_month' > 0.31 and 'Top_SKU_case_per_month' > 0.39 and 'Bottom_SKU_case_per_month' <= 0.02 and 'Top_SKU_trans_month' <= 0.34 then 'HFS'\n",
    "\twhen 'Top_SKU_case_per_month' <= 0.31 and 'Top_SKU_case_per_month' <= 0.23 and 'Top_SKU_case_per_month' <= 0.17 and 'Bottom_SKU_case_per_month' > 0.38 then 'WS'\n",
    "\twhen 'Top_SKU_case_per_month' <= 0.31 and 'Top_SKU_case_per_month' > 0.23 and 'Bottom_SKU_case_per_month' > 0.12 and 'Sachet_salience' <= 0.13 then 'WS'\n",
    "\twhen 'Top_SKU_case_per_month' > 0.31 and 'Top_SKU_case_per_month' <= 0.39 and 'Bottom_SKU_case_per_month' <= 0.11 and 'all_other_size_salience' <= 0.28 then 'WS'\n",
    "\twhen 'Top_SKU_case_per_month' > 0.31 and 'Top_SKU_case_per_month' <= 0.39 and 'Bottom_SKU_case_per_month' > 0.11 and 'Sachet_salience' <= 0.25 then 'WS'\n",
    "\twhen 'Top_SKU_case_per_month' > 0.31 and 'Top_SKU_case_per_month' <= 0.39 and 'Bottom_SKU_case_per_month' > 0.11 and 'Sachet_salience' > 0.25 then 'WS'\n",
    "\twhen 'Top_SKU_case_per_month' > 0.31 and 'Top_SKU_case_per_month' > 0.39 and 'Bottom_SKU_case_per_month' <= 0.02 and 'Top_SKU_trans_month' > 0.34 then 'WS'\n",
    "\twhen 'Top_SKU_case_per_month' > 0.31 and 'Top_SKU_case_per_month' > 0.39 and 'Bottom_SKU_case_per_month' > 0.02 then 'WS'\n",
    "\telse INITIAL_channel\n",
    "end as ATLANTIS_auto_channel\n",
    "from default.vn_eda_features\n",
    "\"\"\"\n",
    "\n",
    "result=parse_default_stage_rules(query_string)\n",
    "print(result)"
   ]
  },
  {
   "cell_type": "code",
   "execution_count": 32,
   "id": "5b63518d-922f-4e25-b96f-91c059bb7ed6",
   "metadata": {},
   "outputs": [
    {
     "name": "stdout",
     "output_type": "stream",
     "text": [
      "True\n"
     ]
    }
   ],
   "source": [
    "import pandas as pd\n",
    "df_auto_separation_concat=pd.DataFrame()\n",
    "\n",
    "df_auto_separation_concat[\"Manual1\"] = pd.NA\n",
    "df_auto_separation_concat[\"Manual1\"] = df_auto_separation_concat[\"Manual1\"].astype(\"string\")\n",
    "df_auto_separation_concat[\"Manual2\"] = pd.NA\n",
    "df_auto_separation_concat[\"Manual2\"] = df_auto_separation_concat[\"Manual2\"].astype(\n",
    "\"string\"\n",
    " )\n",
    "df_auto_separation_concat[\"Manual3\"] = pd.NA\n",
    "df_auto_separation_concat[\"Manual3\"] = df_auto_separation_concat[\"Manual3\"].astype(\"string\")\n",
    "\n",
    "print(df_auto_separation_concat[\"Manual1\"].isna().all())"
   ]
  },
  {
   "cell_type": "code",
   "execution_count": 5,
   "id": "e624cc21-c581-42b1-a6f6-8ff925bf265e",
   "metadata": {},
   "outputs": [
    {
     "data": {
      "text/html": [
       "\n",
       "        <iframe\n",
       "            width=\"100%\"\n",
       "            height=\"650\"\n",
       "            src=\"http://127.0.0.1:8050/\"\n",
       "            frameborder=\"0\"\n",
       "            allowfullscreen\n",
       "            \n",
       "        ></iframe>\n",
       "        "
      ],
      "text/plain": [
       "<IPython.lib.display.IFrame at 0x1f50aa00e50>"
      ]
     },
     "metadata": {},
     "output_type": "display_data"
    }
   ],
   "source": [
    "import pandas as pd\n",
    "import dash\n",
    "from dash import html\n",
    "\n",
    "app = dash.Dash(__name__)\n",
    "\n",
    "app.layout = html.Div([html.Img(src=\"data:image/png;base64,iVBORw0KGgoAAAANSUhEUgAAADIAAAAmCAYAAACGeMg8AAAC8klEQVR4nO2Yy24URxSGv6ruqu72LXhQhJERSEgsSPIAEYFtFomyifIKiZQFj8CLZJsFCm+QsMGwhAWKV7ByboBIbHDHTndVT1Wx8IxxPB4z3e6GEZp/N93V55zv/FV1pBEhhMB7IPmuC2hLM5Bp0wxk2jQDmTbFXQb/b+sZ/26sE5AIPMnpVU5d+KiTXJ2ClL//yrOfbvDSCuZkn5UrX3cGIrqc7Cbf5OUfj9BJRmVLsuUzLJ692EmuzkBCCJSlIc1SxOBZYSwqksRx+xuhk8MeQqAoCrRW+xAAqVZYa3HOtZ6zdUeccxhjSJKEKIpG3g8hlVIopVrL26ojIQR2dnbGQgAIIciyjKIosNa2lrs1R4adTtMUKd/cn+H646DrqBVHDhY1CQS8dsYY08qZacWRwjp0JIii+n0JIWDMnpMn6Wuje9Du5vz58w9UpiR4R7LwAee/+B6ipHYsIQR/b1Q8+OU3lI5J5zRXv1klnatXWiOQUJW4x2tsbW4RS4FaWcW7b4lUfRCA/B/Hxv0KG7bp9Zb59CsHNUEaba3gPWZ3G2sMAEmaoeeXEEK84cuj1a8c+YtdhJREUrK4nNWO1fiMGGtRShOCxzmPVs2ntXMO5/tolVCWBWma1Y7R6HR57/HOIQVEUtKvLCe5M6y1xNHecJQyoqqq2jEagVhr0Vrv/1ZKNR5uzjmEEPvXtlLq7YB47wkh/G+IKaVwzjVy5XBThBDEcVwbpjbI4cRDNXHlsBsHY3UKcpQbB5O7wftJNa4pTVypBWJdQB9zoyidUDk/UaxxbgyltcLTn7i2ie7MzYe3eXL3JlXfceaTz1j9/LvRwvp9nt/5ka3nT8l0RO/ja/QuXxlZV5aGfDsnz3MWl/ZmT5KMDtL1tRfcu/UXMgqcu7TMl9fPIRg/WyYCESpFL55GIZDJwphFIJJ5sqUesQyIeHTLDJYhpCBN08EWPbo4pQWnPswIONIFeQzCIO7s3/gp0wxk2jQDmTbNQKZNrwC8MVLggorrHgAAAABJRU5ErkJggg==\")\n",
    "])\n",
    "if __name__ == '__main__':\n",
    "    app.run_server(debug=True)"
   ]
  },
  {
   "cell_type": "code",
   "execution_count": 4,
   "id": "0e78e316-4a53-4c7b-a1c9-d3b45061b539",
   "metadata": {},
   "outputs": [
    {
     "name": "stdout",
     "output_type": "stream",
     "text": [
      "wrapper function\n",
      "Jim Hello\n",
      "wrapperred\n"
     ]
    }
   ],
   "source": [
    "#装饰器\n",
    "def wrapper_decorator(func):\n",
    "    def wrapper(*args,**kargs):\n",
    "        print(\"wrapper function\")\n",
    "        result=func(*args,**kargs)\n",
    "        print(\"wrapperred\")\n",
    "        return result\n",
    "    return wrapper\n",
    "\n",
    "@wrapper_decorator\n",
    "def say_hello(name):\n",
    "    print(name + \" Hello\")\n",
    "\n",
    "say_hello(\"Jim\")"
   ]
  },
  {
   "cell_type": "code",
   "execution_count": 2,
   "id": "1806d389-93e9-48bf-a16a-5c3807f5a56d",
   "metadata": {},
   "outputs": [
    {
     "name": "stdout",
     "output_type": "stream",
     "text": [
      "[0, 3, 8, 15, 24, 35, 48, 63, 80, 99, 120, 143, 168, 195, 224, 255, 288, 323, 360, 399, 440, 483, 528, 575, 624, 675, 728, 783, 840, 899, 960, 1023, 1088, 1155, 1224, 1295, 1368, 1443, 1520, 1599, 1680, 1763, 1848, 1935, 2024, 2115, 2208, 2303, 2400, 2499, 2600, 2703, 2808, 2915, 3024, 3135, 3248, 3363, 3480, 3599, 3720, 3843, 3968, 4095, 4224, 4355, 4488, 4623, 4760, 4899, 5040, 5183, 5328, 5475, 5624, 5775, 5928, 6083, 6240, 6399, 6560, 6723, 6888, 7055, 7224, 7395, 7568, 7743, 7920, 8099, 8280, 8463, 8648, 8835, 9024, 9215, 9408, 9603, 9800, 9999]\n"
     ]
    }
   ],
   "source": [
    "test=[x*(x+2) for x in range(100)]\n",
    "print(test)"
   ]
  },
  {
   "cell_type": "code",
   "execution_count": 4,
   "id": "e879caf6-99e4-4b1a-b193-d20492aadbe3",
   "metadata": {},
   "outputs": [
    {
     "name": "stdout",
     "output_type": "stream",
     "text": [
      "Step 1\n",
      "1\n",
      "Step 2\n",
      "2\n",
      "Step 3\n",
      "3\n"
     ]
    }
   ],
   "source": [
    "#迭代器+生成器\n",
    "def hello():\n",
    "    print(\"Step 1\")\n",
    "    yield 1\n",
    "    print(\"Step 2\")\n",
    "    yield 2\n",
    "    print(\"Step 3\")\n",
    "    yield 3\n",
    "\n",
    "g=hello()\n",
    "for res in g:\n",
    "    print(res)\n",
    "    "
   ]
  },
  {
   "cell_type": "code",
   "execution_count": 5,
   "id": "ffb46f2a-6ff3-4926-804e-f5db42f3f7f5",
   "metadata": {},
   "outputs": [],
   "source": [
    "#上下文管理器\n",
    "class FileManager:\n",
    "    def __init__(self, file_name, mode):\n",
    "        self.file_name = file_name\n",
    "        self.mode = mode\n",
    "        self.file = None\n",
    "\n",
    "    def __enter__(self):\n",
    "        # 当进入上下文时，打开文件\n",
    "        self.file = open(self.file_name, self.mode)\n",
    "        return self.file\n",
    "\n",
    "    def __exit__(self, exc_type, exc_val, exc_tb):\n",
    "        # 离开上下文时，确保关闭文件\n",
    "        if self.file:\n",
    "            self.file.close()\n",
    "        # 返回 `False` 表示异常仍会被抛出\n",
    "        return False\n",
    "\n",
    "# 使用 FileManager 上下文管理器\n",
    "with FileManager(\"example.txt\", \"w\") as f:\n",
    "    f.write(\"Hello, World!\")\n",
    "# 离开 `with` 块，文件会自动关闭"
   ]
  },
  {
   "cell_type": "code",
   "execution_count": 6,
   "id": "2d28a98a-593a-4c60-8db1-1ecd08b6dbb7",
   "metadata": {},
   "outputs": [
    {
     "name": "stdout",
     "output_type": "stream",
     "text": [
      "Initialized Logger, ready to log messages!\n",
      "Logged message: This is the first log message.\n",
      "Logged message: Another log message.\n"
     ]
    }
   ],
   "source": [
    "class Logger:\n",
    "    def __init__(self, log_file):\n",
    "        self.log_file = log_file\n",
    "        self.file = None\n",
    "\n",
    "    def __enter__(self):\n",
    "        # 打开日志文件进入上下文\n",
    "        self.file = open(self.log_file, \"a\")\n",
    "        print(\"Initialized Logger, ready to log messages!\")  # 控制台日志\n",
    "        return self  # 返回 Logger 实例\n",
    "\n",
    "    def __exit__(self, exc_type, exc_val, exc_tb):\n",
    "        # 离开上下文时关闭文件\n",
    "        if self.file:\n",
    "            self.file.close()\n",
    "        if exc_type is not None:\n",
    "            print(f\"An error occurred: {exc_val}\")  # 处理任何错误\n",
    "        return False  # 异常不会被 suppress\n",
    "\n",
    "    # 定义一个写日志的方法\n",
    "    def write_log(self, message):\n",
    "        if self.file:\n",
    "            self.file.write(f\"{message}\\n\")\n",
    "            print(f\"Logged message: {message}\")  # 控制台日志\n",
    "        else:\n",
    "            raise RuntimeError(\"Logger not initialized. Please use with statement.\")\n",
    "\n",
    "# 使用 Logger 上下文管理器\n",
    "with Logger(\"example.log\") as logger:\n",
    "    logger.write_log(\"This is the first log message.\")  # 调用类方法写日志\n",
    "    logger.write_log(\"Another log message.\")           # 再次调用类方法"
   ]
  },
  {
   "cell_type": "code",
   "execution_count": 22,
   "id": "d556c5af-67c2-45c5-911d-b163d5c8a631",
   "metadata": {},
   "outputs": [
    {
     "name": "stdout",
     "output_type": "stream",
     "text": [
      "1.13\n"
     ]
    }
   ],
   "source": [
    "import decimal\n",
    "# decimal.getcontext().rounding= decimal.ROUND_HALF_UP\n",
    "a=1.125\n",
    "a=decimal.Decimal(str(a))\n",
    "a = a.quantize(decimal.Decimal(\"0.01\"), decimal.ROUND_HALF_UP)\n",
    "print(a)"
   ]
  },
  {
   "cell_type": "code",
   "execution_count": null,
   "id": "c6a76be9-0801-4ff8-8f8f-2d421f064413",
   "metadata": {},
   "outputs": [],
   "source": []
  }
 ],
 "metadata": {
  "kernelspec": {
   "display_name": "Python 3 (ipykernel)",
   "language": "python",
   "name": "python3"
  },
  "language_info": {
   "codemirror_mode": {
    "name": "ipython",
    "version": 3
   },
   "file_extension": ".py",
   "mimetype": "text/x-python",
   "name": "python",
   "nbconvert_exporter": "python",
   "pygments_lexer": "ipython3",
   "version": "3.11.11"
  }
 },
 "nbformat": 4,
 "nbformat_minor": 5
}
