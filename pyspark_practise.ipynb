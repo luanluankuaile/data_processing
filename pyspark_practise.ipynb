{
 "cells": [
  {
   "cell_type": "code",
   "execution_count": 5,
   "id": "6f9964b3-4211-4d25-a025-ce44e2589b0b",
   "metadata": {},
   "outputs": [
    {
     "data": {
      "text/plain": [
       "2"
      ]
     },
     "execution_count": 5,
     "metadata": {},
     "output_type": "execute_result"
    }
   ],
   "source": [
    "import findspark\n",
    "findspark.init()\n",
    "findspark.find()\n",
    "\n",
    "from pyspark.sql import SparkSession\n",
    "from pyspark.sql import DataFrame\n",
    "import pyspark.sql.functions as f\n",
    "from pyspark.sql.functions import col, count, lit, max\n",
    "from pyspark.sql import Observation\n",
    "\n",
    "spark=SparkSession.builder.getOrCreate()\n",
    "df = spark.createDataFrame([[\"Alice\", 2], [\"Bob\", 5]], [\"name\", \"age\"])\n",
    "observation = Observation(\"my metrics\")\n",
    "observed_df = df.observe(observation, count(lit(1)).alias(\"count\"), max(col(\"age\")))\n",
    "observed_df.count()"
   ]
  },
  {
   "cell_type": "code",
   "execution_count": 7,
   "id": "ffd19065-d389-4d20-a3ff-4ed8146f6360",
   "metadata": {},
   "outputs": [
    {
     "data": {
      "text/plain": [
       "<Row('name', 'age')>"
      ]
     },
     "execution_count": 7,
     "metadata": {},
     "output_type": "execute_result"
    }
   ],
   "source": [
    "from pyspark.sql import Row\n",
    "Person = Row(\"name\", \"age\")\n",
    "Person"
   ]
  },
  {
   "cell_type": "code",
   "execution_count": null,
   "id": "c935e4bd-53ec-473a-b68c-57ad4cc9d4bc",
   "metadata": {},
   "outputs": [],
   "source": []
  }
 ],
 "metadata": {
  "kernelspec": {
   "display_name": "Python 3 (ipykernel)",
   "language": "python",
   "name": "python3"
  },
  "language_info": {
   "codemirror_mode": {
    "name": "ipython",
    "version": 3
   },
   "file_extension": ".py",
   "mimetype": "text/x-python",
   "name": "python",
   "nbconvert_exporter": "python",
   "pygments_lexer": "ipython3",
   "version": "3.11.11"
  }
 },
 "nbformat": 4,
 "nbformat_minor": 5
}
